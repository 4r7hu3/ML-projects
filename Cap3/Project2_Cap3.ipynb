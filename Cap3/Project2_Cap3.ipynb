{
 "cells": [
  {
   "cell_type": "markdown",
   "id": "bf6e4ac2-1373-42dd-9434-3f8626d19a07",
   "metadata": {},
   "source": [
    "# Classification system"
   ]
  },
  {
   "cell_type": "markdown",
   "id": "3dcd9189-1f69-4ed4-a661-d18614dad232",
   "metadata": {},
   "source": [
    "This exercise uses MNIST dataset and several ML algorithms to correctly analyze and classify some images (numbers)."
   ]
  },
  {
   "cell_type": "markdown",
   "id": "8b886877-f074-4169-bfe9-0f10f3fd5ed6",
   "metadata": {},
   "source": [
    "## Fecthing data"
   ]
  },
  {
   "cell_type": "code",
   "execution_count": 10,
   "id": "ccf6753e-4cbe-4046-bbb0-8cf24b116155",
   "metadata": {},
   "outputs": [],
   "source": [
    "# libs\n",
    "import numpy as np\n",
    "import matplotlib.pyplot as plt\n",
    "%matplotlib inline\n",
    "from sklearn.datasets import fetch_openml\n",
    "import warnings\n",
    "warnings.filterwarnings('ignore')"
   ]
  },
  {
   "cell_type": "code",
   "execution_count": 11,
   "id": "549080cf-e724-4f31-91a9-b2b28ee01817",
   "metadata": {},
   "outputs": [
    {
     "data": {
      "text/plain": [
       "dict_keys(['data', 'target', 'frame', 'categories', 'feature_names', 'target_names', 'DESCR', 'details', 'url'])"
      ]
     },
     "execution_count": 11,
     "metadata": {},
     "output_type": "execute_result"
    }
   ],
   "source": [
    "# dataset\n",
    "mnist = fetch_openml('mnist_784', version=1, as_frame=False)\n",
    "mnist.keys()"
   ]
  },
  {
   "cell_type": "code",
   "execution_count": 12,
   "id": "70fe0fa5-6407-44ff-beff-6cb8bc514711",
   "metadata": {},
   "outputs": [
    {
     "name": "stdout",
     "output_type": "stream",
     "text": [
      "X shape: (70000, 784)\n",
      "Y shape: (70000,)\n"
     ]
    }
   ],
   "source": [
    "X, y = mnist['data'], mnist['target']\n",
    "print(f'X shape: {X.shape}\\nY shape: {y.shape}')"
   ]
  },
  {
   "cell_type": "markdown",
   "id": "3fffce67-1b4f-4dc9-a2e8-1c73dbe6b85c",
   "metadata": {},
   "source": [
    "With this, we see there are 70,000 images, with each image having 784 features (28 x 28 pixels)"
   ]
  },
  {
   "cell_type": "code",
   "execution_count": 18,
   "id": "1030bcbf-0b42-406b-9a62-6bd5dc9f6b5e",
   "metadata": {},
   "outputs": [
    {
     "data": {
      "image/png": "[encoded data removed]",
      "text/plain": [
       "<Figure size 640x480 with 1 Axes>"
      ]
     },
     "metadata": {},
     "output_type": "display_data"
    }
   ],
   "source": [
    "# first look into a pixel\n",
    "import matplotlib as mpl\n",
    "\n",
    "some_digit = X[0]\n",
    "some_digit_image = some_digit.reshape(28, 28)\n",
    "plt.imshow(some_digit_image, cmap='binary')\n",
    "plt.axis('off')\n",
    "plt.show()"
   ]
  },
  {
   "cell_type": "code",
   "execution_count": 19,
   "id": "1af98d97-6a45-46f4-8aea-1474be7818c4",
   "metadata": {},
   "outputs": [
    {
     "data": {
      "text/plain": [
       "'5'"
      ]
     },
     "execution_count": 19,
     "metadata": {},
     "output_type": "execute_result"
    }
   ],
   "source": [
    "# it looks like a 5, but we can confirm it\n",
    "y[0]"
   ]
  },
  {
   "cell_type": "code",
   "execution_count": 25,
   "id": "c36e48da-f454-48d2-b4b7-6ea33d69bd19",
   "metadata": {},
   "outputs": [
    {
     "data": {
      "text/plain": [
       "5"
      ]
     },
     "execution_count": 25,
     "metadata": {},
     "output_type": "execute_result"
    }
   ],
   "source": [
    "# we will cast the string to a number\n",
    "y = y.astype(np.uint8)\n",
    "y[0]"
   ]
  },
  {
   "cell_type": "code",
   "execution_count": 27,
   "id": "7631d792-69d6-464c-b5f9-664cd06b9797",
   "metadata": {},
   "outputs": [],
   "source": [
    "# let's subset out set into train/test sets\n",
    "X_train, X_test, y_train, y_test = X[:60_000], X[60_000:], y[:60_000], y[60_000:]\n",
    "\n",
    "# we don't need to shuffle the dataset because it's already shuffled"
   ]
  },
  {
   "cell_type": "markdown",
   "id": "6e8b1ece-acc4-431a-8978-69aeb9e3a615",
   "metadata": {},
   "source": [
    "## Binary Classifier"
   ]
  },
  {
   "cell_type": "markdown",
   "id": "5ebd92c7-1582-4f32-9054-ba2aa7a6264e",
   "metadata": {},
   "source": [
    "For now, we will only try to classify one number (5), and then generalize to the full training set. We'll start with *Stochastic Gradient Descent* classifier."
   ]
  },
  {
   "cell_type": "code",
   "execution_count": 29,
   "id": "33418956-c998-427d-b774-62ec6789e9c9",
   "metadata": {},
   "outputs": [],
   "source": [
    "y_train_5 = (y_train == 5)\n",
    "y_test_5 = (y_test == 5)"
   ]
  },
  {
   "cell_type": "code",
   "execution_count": 30,
   "id": "0d1e7cd2-3c40-4927-b203-ff9f59f662a8",
   "metadata": {},
   "outputs": [
    {
     "data": {
      "text/plain": [
       "array([ True])"
      ]
     },
     "execution_count": 30,
     "metadata": {},
     "output_type": "execute_result"
    }
   ],
   "source": [
    "from sklearn.linear_model import SGDClassifier\n",
    "\n",
    "sgd_clf = SGDClassifier(random_state=42)\n",
    "sgd_clf.fit(X_train, y_train_5)\n",
    "sgd_clf.predict([some_digit])\n",
    "\n",
    "# it correctly predicts that \"some_digit\" is in fact a number 5!!!"
   ]
  },
  {
   "cell_type": "markdown",
   "id": "75dcf75a-37d7-4ec6-b14e-cf9c7509a179",
   "metadata": {},
   "source": [
    "## Performance Measure"
   ]
  },
  {
   "cell_type": "markdown",
   "id": "bb9d0b7d-7f95-4d48-943a-a47bb3e899e1",
   "metadata": {},
   "source": [
    "### First approach"
   ]
  },
  {
   "cell_type": "code",
   "execution_count": 34,
   "id": "9a42f993-1ce0-4625-af70-0041df396906",
   "metadata": {},
   "outputs": [
    {
     "name": "stdout",
     "output_type": "stream",
     "text": [
      "Split 1: 0.9669\n",
      "\n",
      "Split 2: 0.91625\n",
      "\n",
      "Split 3: 0.96785\n",
      "\n"
     ]
    }
   ],
   "source": [
    "from sklearn.model_selection import StratifiedKFold\n",
    "from sklearn.base import clone\n",
    "\n",
    "skfolds = StratifiedKFold(n_splits=3, random_state=42, shuffle=True)\n",
    "i = 1\n",
    "\n",
    "for train_index, test_index in skfolds.split(X_train, y_train_5):\n",
    "    clone_clf = clone(sgd_clf)\n",
    "    X_train_folds = X_train[train_index]\n",
    "    y_train_folds = y_train_5[train_index]\n",
    "    X_test_fold = X_train[test_index]\n",
    "    y_test_fold = y_train_5[test_index]\n",
    "\n",
    "    clone_clf.fit(X_train_folds, y_train_folds)\n",
    "    y_pred = clone_clf.predict(X_test_fold)\n",
    "    n_correct = sum(y_pred == y_test_fold)\n",
    "    print(f'Split {i}: {n_correct/len(y_pred)}\\n')\n",
    "    i+=1"
   ]
  },
  {
   "cell_type": "code",
   "execution_count": null,
   "id": "dcf5d336-6801-4ffb-a713-2b13c6808aaa",
   "metadata": {},
   "outputs": [],
   "source": []
  }
 ],
 "metadata": {
  "kernelspec": {
   "display_name": "Python 3 (ipykernel)",
   "language": "python",
   "name": "python3"
  },
  "language_info": {
   "codemirror_mode": {
    "name": "ipython",
    "version": 3
   },
   "file_extension": ".py",
   "mimetype": "text/x-python",
   "name": "python",
   "nbconvert_exporter": "python",
   "pygments_lexer": "ipython3",
   "version": "3.9.18"
  }
 },
 "nbformat": 4,
 "nbformat_minor": 5
}
